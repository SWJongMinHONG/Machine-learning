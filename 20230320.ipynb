{
  "nbformat": 4,
  "nbformat_minor": 0,
  "metadata": {
    "colab": {
      "provenance": [],
      "authorship_tag": "ABX9TyNrRjmsaH7IVTB00Jwb9SGM",
      "include_colab_link": true
    },
    "kernelspec": {
      "name": "python3",
      "display_name": "Python 3"
    },
    "language_info": {
      "name": "python"
    },
    "accelerator": "GPU",
    "gpuClass": "standard"
  },
  "cells": [
    {
      "cell_type": "markdown",
      "metadata": {
        "id": "view-in-github",
        "colab_type": "text"
      },
      "source": [
        "<a href=\"https://colab.research.google.com/github/SWJongMinHONG/Machine-learning/blob/main/20230320.ipynb\" target=\"_parent\"><img src=\"https://colab.research.google.com/assets/colab-badge.svg\" alt=\"Open In Colab\"/></a>"
      ]
    },
    {
      "cell_type": "code",
      "execution_count": null,
      "metadata": {
        "colab": {
          "base_uri": "https://localhost:8080/"
        },
        "id": "kx1a1ziZX8oj",
        "outputId": "14dba8df-791b-41ca-d580-7d263c18011d"
      },
      "outputs": [
        {
          "output_type": "stream",
          "name": "stdout",
          "text": [
            "0\n",
            "1\n",
            "2\n",
            "3\n",
            "4\n",
            "5\n",
            "6\n",
            "7\n",
            "8\n",
            "9\n"
          ]
        }
      ],
      "source": [
        "for i in range(10):\n",
        "  print(i)"
      ]
    },
    {
      "cell_type": "code",
      "source": [
        "a =[1,2,3,4,5,6,7,8,9,10]\n",
        "for i in  a:\n",
        "  print(a[i]) #홀수 인덱스 출력"
      ],
      "metadata": {
        "colab": {
          "base_uri": "https://localhost:8080/"
        },
        "id": "rg-NHzNhYsr6",
        "outputId": "2f9dbc68-0445-49c3-9753-3215bcb60f18"
      },
      "execution_count": null,
      "outputs": [
        {
          "output_type": "stream",
          "name": "stdout",
          "text": [
            "2\n",
            "1\n",
            "2\n",
            "1\n",
            "2\n",
            "1\n",
            "2\n",
            "1\n",
            "2\n",
            "1\n"
          ]
        }
      ]
    },
    {
      "cell_type": "code",
      "source": [
        "  a = []\n",
        "  for i in range(1,4):\n",
        "   a.append(i)\n",
        "  print(a)"
      ],
      "metadata": {
        "colab": {
          "base_uri": "https://localhost:8080/"
        },
        "id": "VkG2auj7aW4r",
        "outputId": "d52e937a-54f0-492c-d5bc-c9f27e829ecf"
      },
      "execution_count": null,
      "outputs": [
        {
          "output_type": "stream",
          "name": "stdout",
          "text": [
            "[1, 2, 3]\n"
          ]
        }
      ]
    },
    {
      "cell_type": "code",
      "source": [
        "  b = []\n",
        "  for i in range(4,7):\n",
        "   b.append(i)\n",
        "  print(b)"
      ],
      "metadata": {
        "colab": {
          "base_uri": "https://localhost:8080/"
        },
        "id": "gVqhhxRla89C",
        "outputId": "3903d303-e470-49cb-c46b-247b9ae7c605"
      },
      "execution_count": null,
      "outputs": [
        {
          "output_type": "stream",
          "name": "stdout",
          "text": [
            "[4, 5, 6]\n"
          ]
        }
      ]
    },
    {
      "cell_type": "code",
      "source": [
        "  c = []\n",
        "  for i in range(3,6):\n",
        "   c.append(i)\n",
        "  print(c)"
      ],
      "metadata": {
        "colab": {
          "base_uri": "https://localhost:8080/"
        },
        "id": "h3bv_Z0DbD6S",
        "outputId": "f18cf67b-31f5-4c0a-e73a-aef8ad3f2d9e"
      },
      "execution_count": null,
      "outputs": [
        {
          "output_type": "stream",
          "name": "stdout",
          "text": [
            "[3, 4, 5]\n"
          ]
        }
      ]
    },
    {
      "cell_type": "code",
      "source": [
        "\n",
        "#합집합\n",
        "U1 =  a+b\n",
        "U1"
      ],
      "metadata": {
        "colab": {
          "base_uri": "https://localhost:8080/"
        },
        "id": "O1hAMMQYbVAC",
        "outputId": "95cb0509-de9c-4585-dc57-d1089e009e9b"
      },
      "execution_count": null,
      "outputs": [
        {
          "output_type": "execute_result",
          "data": {
            "text/plain": [
              "[1, 2, 3, 4, 5, 6]"
            ]
          },
          "metadata": {},
          "execution_count": 14
        }
      ]
    },
    {
      "cell_type": "code",
      "source": [
        "U2 =  a+c\n",
        "U2"
      ],
      "metadata": {
        "colab": {
          "base_uri": "https://localhost:8080/"
        },
        "id": "nKlkKHTablbR",
        "outputId": "cd6023e6-935f-4971-ee8c-b0da0cdd94e5"
      },
      "execution_count": null,
      "outputs": [
        {
          "output_type": "execute_result",
          "data": {
            "text/plain": [
              "[1, 2, 3, 3, 4, 5]"
            ]
          },
          "metadata": {},
          "execution_count": 15
        }
      ]
    },
    {
      "cell_type": "code",
      "source": [
        " i=[]\n",
        " for i in a:\n",
        "   if i in c:\n",
        "     a.remove(i)"
      ],
      "metadata": {
        "id": "j3VposMSblpy"
      },
      "execution_count": null,
      "outputs": []
    },
    {
      "cell_type": "code",
      "source": [
        "U = a+c\n",
        "U"
      ],
      "metadata": {
        "colab": {
          "base_uri": "https://localhost:8080/"
        },
        "id": "Mn_yA5J0efq0",
        "outputId": "2c0711dd-8ca5-4f5b-975b-58c6f18f710b"
      },
      "execution_count": null,
      "outputs": [
        {
          "output_type": "execute_result",
          "data": {
            "text/plain": [
              "[1, 2, 3, 4, 5]"
            ]
          },
          "metadata": {},
          "execution_count": 17
        }
      ]
    },
    {
      "cell_type": "code",
      "source": [
        "c.sort()"
      ],
      "metadata": {
        "id": "p44v2fYxgtF1"
      },
      "execution_count": null,
      "outputs": []
    },
    {
      "cell_type": "code",
      "source": [
        " a =[1,2,3]\n",
        " b = [4,5,6]\n",
        " c = [7,8,9]\n",
        "for i in a:\n",
        "  if i not in c:\n",
        "    c.append(i)\n",
        "    c"
      ],
      "metadata": {
        "id": "3Gf2DlA5gtna"
      },
      "execution_count": null,
      "outputs": []
    },
    {
      "cell_type": "code",
      "source": [
        "c.sort()"
      ],
      "metadata": {
        "id": "vmj9gqLZhk9m"
      },
      "execution_count": null,
      "outputs": []
    },
    {
      "cell_type": "code",
      "source": [
        "c"
      ],
      "metadata": {
        "colab": {
          "base_uri": "https://localhost:8080/"
        },
        "id": "6KKNomP_hnue",
        "outputId": "6fb66012-675d-496f-9070-3fcedfc2e459"
      },
      "execution_count": null,
      "outputs": [
        {
          "output_type": "execute_result",
          "data": {
            "text/plain": [
              "[1, 2, 3, 7, 8, 9]"
            ]
          },
          "metadata": {},
          "execution_count": 24
        }
      ]
    },
    {
      "cell_type": "code",
      "source": [
        "num =1 \n",
        "while num<10:\n",
        "  print(num)\n",
        "\n",
        "  num+=1"
      ],
      "metadata": {
        "colab": {
          "base_uri": "https://localhost:8080/"
        },
        "id": "0hbAhhyKlJWN",
        "outputId": "e370d588-9d28-4b51-eed0-867b782920bb"
      },
      "execution_count": null,
      "outputs": [
        {
          "output_type": "stream",
          "name": "stdout",
          "text": [
            "1\n",
            "2\n",
            "3\n",
            "4\n",
            "5\n",
            "6\n",
            "7\n",
            "8\n",
            "9\n"
          ]
        }
      ]
    },
    {
      "cell_type": "code",
      "source": [
        "num = input()\n",
        "if num == \"123456789!!!\":\n",
        "   print(\"확인\\n\")\n",
        "else:\n",
        "   print(\"실패\\n\")"
      ],
      "metadata": {
        "id": "h6VV_MY0lT3i"
      },
      "execution_count": null,
      "outputs": []
    },
    {
      "cell_type": "code",
      "source": [
        "while True:\n",
        "  print(\"숫자입력\\n\")\n",
        "  num = input():\n",
        "if num == \"12356!!!\":\n",
        "   print(\"로그인 되었습니다.\\n\")\n",
        "  break\n",
        "else:\n",
        "  print(\"다시 입력해주세요\\n\")\n",
        "  continue"
      ],
      "metadata": {
        "id": "A0CKbaS0mcif"
      },
      "execution_count": null,
      "outputs": []
    },
    {
      "cell_type": "code",
      "source": [
        "# 1000전가지 펙토리얼\n",
        "while num<1000:\n",
        "  num += num*(num+1)\n",
        "  print(num)\n",
        "  break"
      ],
      "metadata": {
        "colab": {
          "base_uri": "https://localhost:8080/",
          "height": 136
        },
        "id": "_ri-3KlhovAG",
        "outputId": "db135053-ec41-4225-f6ef-56a06dc90767"
      },
      "execution_count": null,
      "outputs": [
        {
          "output_type": "error",
          "ename": "SyntaxError",
          "evalue": "ignored",
          "traceback": [
            "\u001b[0;36m  File \u001b[0;32m\"<ipython-input-32-a1982f76e448>\"\u001b[0;36m, line \u001b[0;32m2\u001b[0m\n\u001b[0;31m    num++\u001b[0m\n\u001b[0m         ^\u001b[0m\n\u001b[0;31mSyntaxError\u001b[0m\u001b[0;31m:\u001b[0m invalid syntax\n"
          ]
        }
      ]
    },
    {
      "cell_type": "code",
      "source": [
        "#로또 번호 6개 추출\n",
        "import random\n",
        "num_list "
      ],
      "metadata": {
        "id": "v5-nSTo0qPRO"
      },
      "execution_count": null,
      "outputs": []
    },
    {
      "cell_type": "code",
      "source": [
        "random.shuffle(num_list)\n",
        "print(num_list)\n",
        "len(num_list)"
      ],
      "metadata": {
        "colab": {
          "base_uri": "https://localhost:8080/",
          "height": 209
        },
        "id": "KO7zz-W1pe2o",
        "outputId": "a8c8573b-938b-494d-b1d8-f5e3d3b1a9ec"
      },
      "execution_count": null,
      "outputs": [
        {
          "output_type": "error",
          "ename": "NameError",
          "evalue": "ignored",
          "traceback": [
            "\u001b[0;31m---------------------------------------------------------------------------\u001b[0m",
            "\u001b[0;31mNameError\u001b[0m                                 Traceback (most recent call last)",
            "\u001b[0;32m<ipython-input-3-a9af76c1403b>\u001b[0m in \u001b[0;36m<module>\u001b[0;34m\u001b[0m\n\u001b[0;32m----> 1\u001b[0;31m \u001b[0mrandom\u001b[0m\u001b[0;34m.\u001b[0m\u001b[0mshuffle\u001b[0m\u001b[0;34m(\u001b[0m\u001b[0mnum_list\u001b[0m\u001b[0;34m)\u001b[0m\u001b[0;34m\u001b[0m\u001b[0;34m\u001b[0m\u001b[0m\n\u001b[0m\u001b[1;32m      2\u001b[0m \u001b[0mprint\u001b[0m\u001b[0;34m(\u001b[0m\u001b[0mnum_list\u001b[0m\u001b[0;34m)\u001b[0m\u001b[0;34m\u001b[0m\u001b[0;34m\u001b[0m\u001b[0m\n\u001b[1;32m      3\u001b[0m \u001b[0mlen\u001b[0m\u001b[0;34m(\u001b[0m\u001b[0mnum_list\u001b[0m\u001b[0;34m)\u001b[0m\u001b[0;34m\u001b[0m\u001b[0;34m\u001b[0m\u001b[0m\n",
            "\u001b[0;31mNameError\u001b[0m: name 'num_list' is not defined"
          ]
        }
      ]
    },
    {
      "cell_type": "code",
      "source": [
        "lotto=[]\n",
        "while len(lotto) < 6\n"
      ],
      "metadata": {
        "id": "Q8kdkoErspEg"
      },
      "execution_count": null,
      "outputs": []
    },
    {
      "cell_type": "code",
      "source": [
        "A = []\n",
        "while True:\n",
        "  e = round(random.random(),2)\n",
        "  A.append(e)\n",
        "  if len(A) == 5:\n",
        "    break\n",
        "    print(A)"
      ],
      "metadata": {
        "id": "vg-S4Q-wtONa"
      },
      "execution_count": null,
      "outputs": []
    },
    {
      "cell_type": "code",
      "source": [
        "num = 0 \n",
        "while num<10:\n",
        "  e = random.randint(1,30)\n",
        "  num += 1\n",
        "  print(e)"
      ],
      "metadata": {
        "colab": {
          "base_uri": "https://localhost:8080/"
        },
        "id": "PjcV24JFt8sa",
        "outputId": "0717115a-c863-42ac-8336-e9a1773bafd4"
      },
      "execution_count": null,
      "outputs": [
        {
          "output_type": "stream",
          "name": "stdout",
          "text": [
            "13\n",
            "2\n",
            "8\n",
            "19\n",
            "19\n",
            "22\n",
            "17\n",
            "29\n",
            "21\n",
            "30\n"
          ]
        }
      ]
    },
    {
      "cell_type": "code",
      "source": [
        "#약수 구하기\n",
        "f1 = int(input())\n",
        "f2 =[]\n",
        "for gg in range(1,f1+1):\n",
        " if(f1%gg==0):\n",
        "   f2.append(gg)\n",
        "print(f2)"
      ],
      "metadata": {
        "colab": {
          "base_uri": "https://localhost:8080/"
        },
        "id": "exQd6rE_hHAg",
        "outputId": "db3737f1-e4f9-44c9-e130-96f83e137a74"
      },
      "execution_count": null,
      "outputs": [
        {
          "output_type": "stream",
          "name": "stdout",
          "text": [
            "12\n",
            "[1, 2, 3, 4, 6, 12]\n"
          ]
        }
      ]
    },
    {
      "cell_type": "code",
      "source": [
        "#최대공약수 구하기\n",
        "q = 24\n",
        "q1 =[]\n",
        "for gg in range(1,q+1):\n",
        " if(q%gg==0):\n",
        "   q1.append(gg)\n",
        "print(q1)"
      ],
      "metadata": {
        "colab": {
          "base_uri": "https://localhost:8080/"
        },
        "id": "mRy6QqVUjmE-",
        "outputId": "bb6d5580-0a97-420f-a15c-3d28f225aaa1"
      },
      "execution_count": null,
      "outputs": [
        {
          "output_type": "stream",
          "name": "stdout",
          "text": [
            "[1, 2, 3, 4, 6, 8, 12, 24]\n"
          ]
        }
      ]
    },
    {
      "cell_type": "code",
      "source": [
        "w = 36\n",
        "w1 =[]\n",
        "for hh in range(1,w+1):\n",
        " if(w%hh==0):\n",
        "   w1.append(hh)\n",
        "print(w1)"
      ],
      "metadata": {
        "colab": {
          "base_uri": "https://localhost:8080/"
        },
        "id": "FnE0TGMcknKS",
        "outputId": "f504fa73-0b2c-49e7-c882-e99f24ae20d3"
      },
      "execution_count": null,
      "outputs": [
        {
          "output_type": "stream",
          "name": "stdout",
          "text": [
            "[1, 2, 3, 4, 6, 9, 12, 18, 36]\n"
          ]
        }
      ]
    },
    {
      "cell_type": "code",
      "source": [
        "c =[]\n",
        "for i in q1:\n",
        "  if i in w1:\n",
        "    c.append(i)\n",
        "print(c)\n",
        "s = c[-1]\n",
        "print(\"{}와 {}의 최대 공약수={}\".format(q,w,s))"
      ],
      "metadata": {
        "colab": {
          "base_uri": "https://localhost:8080/"
        },
        "id": "uY-76Cvkk0LZ",
        "outputId": "c50cde28-b0d6-4aa6-ab63-d5b2ec43e2d1"
      },
      "execution_count": null,
      "outputs": [
        {
          "output_type": "stream",
          "name": "stdout",
          "text": [
            "[1, 2, 3, 4, 6, 12]\n",
            "24와 36의 최대 공약수=12\n"
          ]
        }
      ]
    },
    {
      "cell_type": "code",
      "source": [
        "#최소공배수\n",
        "k = q*w/c[-1]\n",
        "print(\"{}와{}의 최소공배수={}\".format(q,w,k))"
      ],
      "metadata": {
        "colab": {
          "base_uri": "https://localhost:8080/"
        },
        "id": "u9vsMiUDnafv",
        "outputId": "38f32491-6ce4-4967-e74b-77086a1c8029"
      },
      "execution_count": null,
      "outputs": [
        {
          "output_type": "stream",
          "name": "stdout",
          "text": [
            "24와36의 최소공배수=72.0\n"
          ]
        }
      ]
    },
    {
      "cell_type": "code",
      "source": [
        "#소인수분해\n",
        "soinsoo = []\n",
        "v = int(input())\n",
        "for i in range(2,v):\n",
        "  while (v % i == 0):\n",
        "    soinsoo.append(i)\n",
        "    v = v/i\n",
        "soinsoo"
      ],
      "metadata": {
        "colab": {
          "base_uri": "https://localhost:8080/"
        },
        "id": "mUGwzfgLoybp",
        "outputId": "f6347053-b088-441e-a8b2-7511ef290ce0"
      },
      "execution_count": null,
      "outputs": [
        {
          "name": "stdout",
          "output_type": "stream",
          "text": [
            "25\n"
          ]
        },
        {
          "output_type": "execute_result",
          "data": {
            "text/plain": [
              "[5, 5]"
            ]
          },
          "metadata": {},
          "execution_count": 45
        }
      ]
    },
    {
      "cell_type": "code",
      "source": [
        "a = int(input())\n",
        "prim = True\n",
        "for i in range(2,a):\n",
        "  if a% i  ==0:\n",
        "    prim = False\n",
        " \n",
        "\n",
        "if prim == True:\n",
        "  print(\"소수\\n\")\n",
        "else:\n",
        "  prin(\"합성\\n\")"
      ],
      "metadata": {
        "colab": {
          "base_uri": "https://localhost:8080/"
        },
        "id": "Eksw6B6oqpj3",
        "outputId": "c1589f87-661b-434b-ffbb-89834aedc196"
      },
      "execution_count": 1,
      "outputs": [
        {
          "output_type": "stream",
          "name": "stdout",
          "text": [
            "5\n",
            "소수\n",
            "\n"
          ]
        }
      ]
    }
  ]
}