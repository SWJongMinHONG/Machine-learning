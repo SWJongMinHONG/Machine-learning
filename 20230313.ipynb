{
  "nbformat": 4,
  "nbformat_minor": 0,
  "metadata": {
    "colab": {
      "provenance": [],
      "toc_visible": true,
      "authorship_tag": "ABX9TyPvvdokfJEGRc+iToJphpCf",
      "include_colab_link": true
    },
    "kernelspec": {
      "name": "python3",
      "display_name": "Python 3"
    },
    "language_info": {
      "name": "python"
    }
  },
  "cells": [
    {
      "cell_type": "markdown",
      "metadata": {
        "id": "view-in-github",
        "colab_type": "text"
      },
      "source": [
        "<a href=\"https://colab.research.google.com/github/SWJongMinHONG/Machine-learning/blob/main/20230313.ipynb\" target=\"_parent\"><img src=\"https://colab.research.google.com/assets/colab-badge.svg\" alt=\"Open In Colab\"/></a>"
      ]
    },
    {
      "cell_type": "code",
      "execution_count": null,
      "metadata": {
        "id": "c7N2Qy5rWcjH"
      },
      "outputs": [],
      "source": [
        "#데이터 타입"
      ]
    },
    {
      "cell_type": "code",
      "source": [
        "a=3\n",
        "b=7.9\n",
        "c=\"hello\"\n",
        "\n",
        "type(a)\n",
        "type(b)\n",
        "type(c)\n",
        "\n",
        "a =str(a)\n",
        "type(a)\n"
      ],
      "metadata": {
        "colab": {
          "base_uri": "https://localhost:8080/"
        },
        "id": "rMTQHFUnWfT6",
        "outputId": "4b619239-eee9-4621-816a-ea6252ca76c9"
      },
      "execution_count": null,
      "outputs": [
        {
          "output_type": "execute_result",
          "data": {
            "text/plain": [
              "str"
            ]
          },
          "metadata": {},
          "execution_count": 6
        }
      ]
    },
    {
      "cell_type": "code",
      "source": [
        "a = int(input())"
      ],
      "metadata": {
        "colab": {
          "base_uri": "https://localhost:8080/"
        },
        "id": "bII8wRjtXym5",
        "outputId": "ba879ebb-509a-4859-8a4e-5ee94eb2b025"
      },
      "execution_count": null,
      "outputs": [
        {
          "name": "stdout",
          "output_type": "stream",
          "text": [
            "3\n"
          ]
        }
      ]
    },
    {
      "cell_type": "code",
      "source": [
        "a"
      ],
      "metadata": {
        "colab": {
          "base_uri": "https://localhost:8080/",
          "height": 35
        },
        "id": "Pg6-8dj7X8it",
        "outputId": "d71e5c26-515d-4244-ff51-cda439304026"
      },
      "execution_count": null,
      "outputs": [
        {
          "output_type": "execute_result",
          "data": {
            "text/plain": [
              "'3'"
            ],
            "application/vnd.google.colaboratory.intrinsic+json": {
              "type": "string"
            }
          },
          "metadata": {},
          "execution_count": 8
        }
      ]
    },
    {
      "cell_type": "code",
      "source": [
        "type(a)"
      ],
      "metadata": {
        "colab": {
          "base_uri": "https://localhost:8080/"
        },
        "id": "MKC2tzWZYQNp",
        "outputId": "8e2b8555-b20c-4ecc-b7bc-85f6828a92e4"
      },
      "execution_count": null,
      "outputs": [
        {
          "output_type": "execute_result",
          "data": {
            "text/plain": [
              "str"
            ]
          },
          "metadata": {},
          "execution_count": 9
        }
      ]
    },
    {
      "cell_type": "code",
      "source": [
        "print(a)"
      ],
      "metadata": {
        "colab": {
          "base_uri": "https://localhost:8080/"
        },
        "id": "r7Bz63n_YTSw",
        "outputId": "f86ae4ea-3400-4fdd-875c-57bfd9990ff8"
      },
      "execution_count": null,
      "outputs": [
        {
          "output_type": "stream",
          "name": "stdout",
          "text": [
            "3\n"
          ]
        }
      ]
    },
    {
      "cell_type": "code",
      "source": [
        "print(\"{}와{}와{}를 출력하라\".format(a,b,c))"
      ],
      "metadata": {
        "colab": {
          "base_uri": "https://localhost:8080/"
        },
        "id": "nkF6xXujY8jI",
        "outputId": "43aaddcf-5b2e-44e5-aaf9-ca764c689f44"
      },
      "execution_count": null,
      "outputs": [
        {
          "output_type": "stream",
          "name": "stdout",
          "text": [
            "3와[]와7.9를 출력하라\n"
          ]
        }
      ]
    },
    {
      "cell_type": "markdown",
      "source": [
        "인덱싱 슬라이싱"
      ],
      "metadata": {
        "id": "-1_Iv3EDaJ8o"
      }
    },
    {
      "cell_type": "code",
      "source": [
        "str1 = \"hello python\""
      ],
      "metadata": {
        "id": "AhPi8EnDaOZn"
      },
      "execution_count": null,
      "outputs": []
    },
    {
      "cell_type": "code",
      "source": [
        "len(str1)"
      ],
      "metadata": {
        "colab": {
          "base_uri": "https://localhost:8080/"
        },
        "id": "6aAUMLm0aTXq",
        "outputId": "01c96903-1b15-440a-c747-6bccfc920704"
      },
      "execution_count": null,
      "outputs": [
        {
          "output_type": "execute_result",
          "data": {
            "text/plain": [
              "12"
            ]
          },
          "metadata": {},
          "execution_count": 19
        }
      ]
    },
    {
      "cell_type": "code",
      "source": [
        "str1[11]"
      ],
      "metadata": {
        "colab": {
          "base_uri": "https://localhost:8080/",
          "height": 35
        },
        "id": "c0vvlVkHa9FJ",
        "outputId": "78080864-b1da-4f6f-876c-60270b182ed0"
      },
      "execution_count": null,
      "outputs": [
        {
          "output_type": "execute_result",
          "data": {
            "text/plain": [
              "'n'"
            ],
            "application/vnd.google.colaboratory.intrinsic+json": {
              "type": "string"
            }
          },
          "metadata": {},
          "execution_count": 21
        }
      ]
    },
    {
      "cell_type": "code",
      "source": [
        "str1[1:]"
      ],
      "metadata": {
        "colab": {
          "base_uri": "https://localhost:8080/",
          "height": 35
        },
        "id": "VhNHGmxNbFhg",
        "outputId": "1da7215c-d54d-4d0c-d7ac-a1d76c5248a4"
      },
      "execution_count": null,
      "outputs": [
        {
          "output_type": "execute_result",
          "data": {
            "text/plain": [
              "'ello python'"
            ],
            "application/vnd.google.colaboratory.intrinsic+json": {
              "type": "string"
            }
          },
          "metadata": {},
          "execution_count": 22
        }
      ]
    },
    {
      "cell_type": "code",
      "source": [
        "str1[:-1]"
      ],
      "metadata": {
        "colab": {
          "base_uri": "https://localhost:8080/",
          "height": 35
        },
        "id": "dkMpHPOwbKIB",
        "outputId": "bbf50e8d-39fb-44dc-c0ad-be5d14330e46"
      },
      "execution_count": null,
      "outputs": [
        {
          "output_type": "execute_result",
          "data": {
            "text/plain": [
              "'hello pytho'"
            ],
            "application/vnd.google.colaboratory.intrinsic+json": {
              "type": "string"
            }
          },
          "metadata": {},
          "execution_count": 25
        }
      ]
    },
    {
      "cell_type": "code",
      "source": [
        "dict1={\"name\" : \"lee\" , \"age\" : 23}\n"
      ],
      "metadata": {
        "id": "6Rc2Fcwidmin"
      },
      "execution_count": null,
      "outputs": []
    },
    {
      "cell_type": "code",
      "source": [
        "dict1=[\"name\"]"
      ],
      "metadata": {
        "id": "csy8fr_nd14H"
      },
      "execution_count": null,
      "outputs": []
    },
    {
      "cell_type": "code",
      "source": [
        "x= 3\n",
        "y= 7 \n",
        "z =11\n",
        "round(z/x,4)"
      ],
      "metadata": {
        "colab": {
          "base_uri": "https://localhost:8080/"
        },
        "id": "HAjTK2O7jI9u",
        "outputId": "2fa4c372-3c0a-450e-877d-93893644bcd3"
      },
      "execution_count": null,
      "outputs": [
        {
          "output_type": "execute_result",
          "data": {
            "text/plain": [
              "3.6667"
            ]
          },
          "metadata": {},
          "execution_count": 35
        }
      ]
    },
    {
      "cell_type": "code",
      "source": [
        "if x<3:\n",
        "  print(\"true\")\n",
        "else:\n",
        "    print(\"false\")"
      ],
      "metadata": {
        "colab": {
          "base_uri": "https://localhost:8080/"
        },
        "id": "l-8bzpgJlJfu",
        "outputId": "56cf1f97-bad8-47de-afc9-65f3fe53077c"
      },
      "execution_count": null,
      "outputs": [
        {
          "output_type": "stream",
          "name": "stdout",
          "text": [
            "false\n"
          ]
        }
      ]
    },
    {
      "cell_type": "code",
      "source": [
        "a = int(input())\n",
        "\n",
        "if a%2==0:\n",
        "  print(\"짝수입니다\")\n",
        "else :\n",
        " print(\"홀수입니다\")"
      ],
      "metadata": {
        "colab": {
          "base_uri": "https://localhost:8080/"
        },
        "id": "RA-8LyIDm2eb",
        "outputId": "460a2312-8275-4181-b55e-79b75e51dc32"
      },
      "execution_count": null,
      "outputs": [
        {
          "output_type": "stream",
          "name": "stdout",
          "text": [
            "3\n",
            "홀수입니다\n"
          ]
        }
      ]
    },
    {
      "cell_type": "code",
      "source": [
        "b =  int(input())\n",
        "\n",
        "if b>=90:\n",
        "  print(\"A입니다\") \n",
        "elif b>=80: \n",
        "  print(\"B입니다\")\n",
        "elif b>=70:\n",
        "  print(\"C입니다\")\n",
        "elif b>=60:\n",
        "  print(\"D입니다\")\n",
        "else :\n",
        "  print(\"F입니다\")  "
      ],
      "metadata": {
        "colab": {
          "base_uri": "https://localhost:8080/"
        },
        "id": "k0VtOenEnq6k",
        "outputId": "252db5a5-72da-4881-e1c8-cd9caf864c4e"
      },
      "execution_count": null,
      "outputs": [
        {
          "output_type": "stream",
          "name": "stdout",
          "text": [
            "88\n",
            "B입니다\n"
          ]
        }
      ]
    },
    {
      "cell_type": "code",
      "source": [
        "from google.colab import drive\n",
        "drive.mount('/content/drive')"
      ],
      "metadata": {
        "id": "jQkffHKltiBL"
      },
      "execution_count": null,
      "outputs": []
    },
    {
      "cell_type": "code",
      "source": [
        "print(\"PW입력\")\n",
        "pw = input()"
      ],
      "metadata": {
        "colab": {
          "base_uri": "https://localhost:8080/"
        },
        "id": "J5KTTU7cp7Xc",
        "outputId": "4ee4208d-a6c7-4867-c198-2b65e5545f0e"
      },
      "execution_count": null,
      "outputs": [
        {
          "name": "stdout",
          "output_type": "stream",
          "text": [
            "PW입력\n",
            "Abcd12!\n"
          ]
        }
      ]
    },
    {
      "cell_type": "code",
      "source": [
        "if pw == 'Abcd12!':\n",
        "  print(\"확인\")\n",
        "else:\n",
        "  print(\"아님\")"
      ],
      "metadata": {
        "colab": {
          "base_uri": "https://localhost:8080/"
        },
        "id": "aH7sUzolrh4q",
        "outputId": "41935d41-5a86-4b5d-8446-cb25a03974fa"
      },
      "execution_count": null,
      "outputs": [
        {
          "output_type": "stream",
          "name": "stdout",
          "text": [
            "확인\n"
          ]
        }
      ]
    },
    {
      "cell_type": "code",
      "source": [
        "year1=int(input(\"태어난 해를 입력> \"))\n",
        "birth_year=year1%12\n",
        "\n",
        "if birth_year==0:\n",
        "    print(\"원숭이 띠입니다.\")\n",
        "\n",
        "elif birth_year==1:\n",
        "    print(\"닭 띠입니다.\")\n",
        "\n",
        "elif birth_year==2:\n",
        "    print(\"개 띠입니다.\")\n",
        "\n",
        "elif birth_year==3:\n",
        "    print(\"돼지 띠입니다.\")\n",
        "\n",
        "elif birth_year==4:\n",
        "    print(\"쥐 띠입니다.\")\n",
        "\n",
        "elif birth_year==5:\n",
        "    print(\"소 띠입니다.\")\n",
        "\n",
        "elif birth_year==6:\n",
        "    print(\"범 띠입니다.\")\n",
        "\n",
        "elif birth_year==7:\n",
        "    print(\"토끼 띠입니다.\")\n",
        "\n",
        "elif birth_year==8:\n",
        "    print(\"용 띠입니다.\")\n",
        "\n",
        "elif birth_year==9:\n",
        "    print(\"뱀 띠입니다.\")\n",
        "\n",
        "elif birth_year==10:\n",
        "    print(\"말 띠입니다.\")\n",
        "\n",
        "else:\n",
        "    print(\"양 띠입니다.\")"
      ],
      "metadata": {
        "colab": {
          "base_uri": "https://localhost:8080/"
        },
        "id": "883dsXxQDwwf",
        "outputId": "22d4e27e-e5f5-4ce1-bc5f-8baf861e67e6"
      },
      "execution_count": null,
      "outputs": [
        {
          "output_type": "stream",
          "name": "stdout",
          "text": [
            "태어난 해를 입력> 2000\n",
            "용 띠입니다.\n"
          ]
        }
      ]
    },
    {
      "cell_type": "code",
      "source": [
        "    year=int(input(\"윤년검사:\"))\n",
        "\n",
        "    if (year%4 == 0 and year%100 != 0) or year%400 ==0:\n",
        "        print(str(year)+\"은 윤년입니다.\")\n",
        "    else :\n",
        "        print(str(year)+\"은 평년입니다.\")\n",
        "\n"
      ],
      "metadata": {
        "colab": {
          "base_uri": "https://localhost:8080/"
        },
        "id": "L-ID6ObZD4yB",
        "outputId": "977076bd-5b05-4b66-d54d-1f75f3d12f8e"
      },
      "execution_count": null,
      "outputs": [
        {
          "output_type": "stream",
          "name": "stdout",
          "text": [
            "윤년검사:2000\n",
            "2000은 윤년입니다.\n"
          ]
        }
      ]
    }
  ]
}