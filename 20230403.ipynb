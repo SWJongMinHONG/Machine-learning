{
  "nbformat": 4,
  "nbformat_minor": 0,
  "metadata": {
    "colab": {
      "provenance": [],
      "authorship_tag": "ABX9TyPVG0Zsy09y1qXSxwpu0vQv",
      "include_colab_link": true
    },
    "kernelspec": {
      "name": "python3",
      "display_name": "Python 3"
    },
    "language_info": {
      "name": "python"
    },
    "accelerator": "GPU",
    "gpuClass": "standard"
  },
  "cells": [
    {
      "cell_type": "markdown",
      "metadata": {
        "id": "view-in-github",
        "colab_type": "text"
      },
      "source": [
        "<a href=\"https://colab.research.google.com/github/SWJongMinHONG/Machine-learning/blob/main/20230403.ipynb\" target=\"_parent\"><img src=\"https://colab.research.google.com/assets/colab-badge.svg\" alt=\"Open In Colab\"/></a>"
      ]
    },
    {
      "cell_type": "code",
      "execution_count": 3,
      "metadata": {
        "id": "vhiHoxRAcBJt"
      },
      "outputs": [],
      "source": [
        "import tensorflow as tf\n",
        "import numpy as np\n",
        "import matplotlib.pyplot as plt"
      ]
    },
    {
      "cell_type": "code",
      "source": [
        "a = 1\n",
        "b = 2\n",
        "c = tf.math.add(a,b)\n",
        "c"
      ],
      "metadata": {
        "colab": {
          "base_uri": "https://localhost:8080/"
        },
        "id": "oetVK1qsei-j",
        "outputId": "83dfbbdb-ab26-4017-f256-e6659f9d0fa9"
      },
      "execution_count": null,
      "outputs": [
        {
          "output_type": "execute_result",
          "data": {
            "text/plain": [
              "<tf.Tensor: shape=(), dtype=int32, numpy=3>"
            ]
          },
          "metadata": {},
          "execution_count": 4
        }
      ]
    },
    {
      "cell_type": "markdown",
      "source": [],
      "metadata": {
        "id": "dIgJ0e4XgrMh"
      }
    },
    {
      "cell_type": "code",
      "source": [
        "c.numpy()"
      ],
      "metadata": {
        "colab": {
          "base_uri": "https://localhost:8080/"
        },
        "id": "gRWhbWoJfBXM",
        "outputId": "7f8260cc-66b4-42b9-ee17-a39f65310887"
      },
      "execution_count": null,
      "outputs": [
        {
          "output_type": "execute_result",
          "data": {
            "text/plain": [
              "3"
            ]
          },
          "metadata": {},
          "execution_count": 5
        }
      ]
    },
    {
      "cell_type": "code",
      "source": [
        "c1 = tf.constant(1)\n",
        "c2 = tf.constant(2)\n",
        "print(c1,c2)"
      ],
      "metadata": {
        "colab": {
          "base_uri": "https://localhost:8080/"
        },
        "id": "rxEUpL2ugBEi",
        "outputId": "9bd34c9f-80a5-4e71-b376-81714da11ee2"
      },
      "execution_count": null,
      "outputs": [
        {
          "output_type": "stream",
          "name": "stdout",
          "text": [
            "tf.Tensor(1, shape=(), dtype=int32) tf.Tensor(2, shape=(), dtype=int32)\n"
          ]
        }
      ]
    },
    {
      "cell_type": "code",
      "source": [
        "f1 = tf.cast(c1,tf.float32)\n",
        "f2 = tf.cast(c2,tf.float32)\n",
        "print(f1,f2)"
      ],
      "metadata": {
        "colab": {
          "base_uri": "https://localhost:8080/"
        },
        "id": "XHYjfRZNgQwa",
        "outputId": "e5189886-c074-464c-e9de-e55a4146248a"
      },
      "execution_count": null,
      "outputs": [
        {
          "output_type": "stream",
          "name": "stdout",
          "text": [
            "tf.Tensor(1.0, shape=(), dtype=float32) tf.Tensor(2.0, shape=(), dtype=float32)\n"
          ]
        }
      ]
    },
    {
      "cell_type": "markdown",
      "source": [
        "add()\n",
        "subtract()\n",
        "multiply()\n",
        "divide()\n",
        "mod() 나머지\n",
        "floordiv() 몫"
      ],
      "metadata": {
        "id": "DX9G0iJkgsaJ"
      }
    },
    {
      "cell_type": "code",
      "source": [
        "add = tf.math.add(c1,c2)\n",
        "add.numpy()"
      ],
      "metadata": {
        "colab": {
          "base_uri": "https://localhost:8080/"
        },
        "id": "qeM6GYHgg_Th",
        "outputId": "e1363dfa-29e2-4bb7-9631-bed8b3f7924f"
      },
      "execution_count": null,
      "outputs": [
        {
          "output_type": "execute_result",
          "data": {
            "text/plain": [
              "3"
            ]
          },
          "metadata": {},
          "execution_count": 10
        }
      ]
    },
    {
      "cell_type": "code",
      "source": [
        "sub = tf.math.subtract(c1,c2)\n",
        "sub.numpy()"
      ],
      "metadata": {
        "colab": {
          "base_uri": "https://localhost:8080/"
        },
        "id": "O8U3BX15hLIL",
        "outputId": "838e17db-d35a-4f5d-f147-10c688d1ef2e"
      },
      "execution_count": null,
      "outputs": [
        {
          "output_type": "execute_result",
          "data": {
            "text/plain": [
              "-1"
            ]
          },
          "metadata": {},
          "execution_count": 12
        }
      ]
    },
    {
      "cell_type": "code",
      "source": [
        "mod = tf.math.mod(c1,c2)\n",
        "mod.numpy()"
      ],
      "metadata": {
        "colab": {
          "base_uri": "https://localhost:8080/"
        },
        "id": "raJXYoAehtBi",
        "outputId": "3a36c699-1ef8-48e8-fe6a-ee1d4171c34f"
      },
      "execution_count": null,
      "outputs": [
        {
          "output_type": "execute_result",
          "data": {
            "text/plain": [
              "1"
            ]
          },
          "metadata": {},
          "execution_count": 14
        }
      ]
    },
    {
      "cell_type": "code",
      "source": [
        "py_list = [10,20,30]\n",
        "ten_list = tf.constant(py_list)\n",
        "ten_list"
      ],
      "metadata": {
        "colab": {
          "base_uri": "https://localhost:8080/"
        },
        "id": "vmbY5W5Wihlp",
        "outputId": "c1e7257e-78d9-4d94-d5a1-162241f74c98"
      },
      "execution_count": null,
      "outputs": [
        {
          "output_type": "execute_result",
          "data": {
            "text/plain": [
              "<tf.Tensor: shape=(3,), dtype=int32, numpy=array([10, 20, 30], dtype=int32)>"
            ]
          },
          "metadata": {},
          "execution_count": 15
        }
      ]
    },
    {
      "cell_type": "code",
      "source": [
        "ten_list = tf.constant([10,20,30])\n",
        "ten_list"
      ],
      "metadata": {
        "colab": {
          "base_uri": "https://localhost:8080/"
        },
        "id": "nFnVyks3ixlq",
        "outputId": "6f4fe901-3038-4ee2-9731-addba0050b6e"
      },
      "execution_count": null,
      "outputs": [
        {
          "output_type": "execute_result",
          "data": {
            "text/plain": [
              "<tf.Tensor: shape=(3,), dtype=int32, numpy=array([10, 20, 30], dtype=int32)>"
            ]
          },
          "metadata": {},
          "execution_count": 16
        }
      ]
    },
    {
      "cell_type": "code",
      "source": [
        "num_arr = np.array([10,10,10])\n",
        "ten_arr = tf.constant(num_arr,dtype=tf.int32)\n",
        "ten_arr"
      ],
      "metadata": {
        "colab": {
          "base_uri": "https://localhost:8080/"
        },
        "id": "a64xhhdVi3M5",
        "outputId": "a0b82092-7626-4151-8c8d-9940193336e7"
      },
      "execution_count": null,
      "outputs": [
        {
          "output_type": "execute_result",
          "data": {
            "text/plain": [
              "<tf.Tensor: shape=(3,), dtype=int32, numpy=array([10, 10, 10], dtype=int32)>"
            ]
          },
          "metadata": {},
          "execution_count": 22
        }
      ]
    },
    {
      "cell_type": "code",
      "source": [
        "add1 = tf.math.add(ten_list,num_arr)\n",
        "add1"
      ],
      "metadata": {
        "colab": {
          "base_uri": "https://localhost:8080/"
        },
        "id": "5A5-De14jQNR",
        "outputId": "3e5d8462-74a3-4f31-f69b-4b50ea8fe819"
      },
      "execution_count": null,
      "outputs": [
        {
          "output_type": "execute_result",
          "data": {
            "text/plain": [
              "<tf.Tensor: shape=(3,), dtype=int32, numpy=array([20, 30, 40], dtype=int32)>"
            ]
          },
          "metadata": {},
          "execution_count": 20
        }
      ]
    },
    {
      "cell_type": "code",
      "source": [
        "A = ten_list + ten_arr\n",
        "S = ten_list - ten_arr\n",
        "M = ten_list * ten_arr\n",
        "D = ten_list / ten_arr\n",
        "Mo = ten_list % ten_arr\n",
        "fd = ten_list // ten_arr\n"
      ],
      "metadata": {
        "id": "nVDW4w-Uj4RR"
      },
      "execution_count": null,
      "outputs": []
    },
    {
      "cell_type": "code",
      "source": [
        "A.numpy()"
      ],
      "metadata": {
        "colab": {
          "base_uri": "https://localhost:8080/"
        },
        "id": "wHNTP4j5kpEo",
        "outputId": "650f7723-8c06-471b-9f92-5bffa7f5a065"
      },
      "execution_count": null,
      "outputs": [
        {
          "output_type": "execute_result",
          "data": {
            "text/plain": [
              "array([20, 30, 40], dtype=int32)"
            ]
          },
          "metadata": {},
          "execution_count": 24
        }
      ]
    },
    {
      "cell_type": "code",
      "source": [
        "S.numpy()"
      ],
      "metadata": {
        "colab": {
          "base_uri": "https://localhost:8080/"
        },
        "id": "ELembqJMkpNO",
        "outputId": "db4f5a3f-b449-4cb0-8f9f-f53f5c242ea6"
      },
      "execution_count": null,
      "outputs": [
        {
          "output_type": "execute_result",
          "data": {
            "text/plain": [
              "array([ 0, 10, 20], dtype=int32)"
            ]
          },
          "metadata": {},
          "execution_count": 25
        }
      ]
    },
    {
      "cell_type": "code",
      "source": [
        "M.numpy()"
      ],
      "metadata": {
        "colab": {
          "base_uri": "https://localhost:8080/"
        },
        "id": "vV8OTYqTkus3",
        "outputId": "49b240c6-6fdd-4f28-8b26-80847a690440"
      },
      "execution_count": null,
      "outputs": [
        {
          "output_type": "execute_result",
          "data": {
            "text/plain": [
              "array([100, 200, 300], dtype=int32)"
            ]
          },
          "metadata": {},
          "execution_count": 57
        }
      ]
    },
    {
      "cell_type": "code",
      "source": [
        "D.numpy()"
      ],
      "metadata": {
        "colab": {
          "base_uri": "https://localhost:8080/"
        },
        "id": "Xlg7lH5ikwZG",
        "outputId": "bd0ef525-958c-477d-ee56-862c11c93050"
      },
      "execution_count": null,
      "outputs": [
        {
          "output_type": "execute_result",
          "data": {
            "text/plain": [
              "array([1., 2., 3.])"
            ]
          },
          "metadata": {},
          "execution_count": 27
        }
      ]
    },
    {
      "cell_type": "code",
      "source": [
        "Mo.numpy()"
      ],
      "metadata": {
        "colab": {
          "base_uri": "https://localhost:8080/"
        },
        "id": "Wmr6B9gfkyKG",
        "outputId": "971f349f-6f54-48c4-a4ee-722ab7424dda"
      },
      "execution_count": null,
      "outputs": [
        {
          "output_type": "execute_result",
          "data": {
            "text/plain": [
              "array([0, 0, 0], dtype=int32)"
            ]
          },
          "metadata": {},
          "execution_count": 28
        }
      ]
    },
    {
      "cell_type": "code",
      "source": [
        "fd.numpy()"
      ],
      "metadata": {
        "colab": {
          "base_uri": "https://localhost:8080/"
        },
        "id": "ncPwpwFbk0uH",
        "outputId": "0c200c25-9d97-4bb4-bd47-83441aa61c41"
      },
      "execution_count": null,
      "outputs": [
        {
          "output_type": "execute_result",
          "data": {
            "text/plain": [
              "array([1, 2, 3], dtype=int32)"
            ]
          },
          "metadata": {},
          "execution_count": 29
        }
      ]
    },
    {
      "cell_type": "code",
      "source": [
        "l_a = [1,0]\n",
        "l_b = [-1,2]"
      ],
      "metadata": {
        "id": "ugyWJvtwlG71"
      },
      "execution_count": null,
      "outputs": []
    },
    {
      "cell_type": "code",
      "source": [
        "l_a = tf.constant(l_a)\n",
        "l_b = tf.constant(l_b)\n",
        "a = tf.stack([l_a,l_b])\n",
        "a"
      ],
      "metadata": {
        "colab": {
          "base_uri": "https://localhost:8080/"
        },
        "id": "0AqfKD46lLaF",
        "outputId": "2e3c39dc-c7ab-4505-bb27-b60b4ff8d84e"
      },
      "execution_count": null,
      "outputs": [
        {
          "output_type": "execute_result",
          "data": {
            "text/plain": [
              "<tf.Tensor: shape=(2, 2), dtype=int32, numpy=\n",
              "array([[ 1,  0],\n",
              "       [-1,  2]], dtype=int32)>"
            ]
          },
          "metadata": {},
          "execution_count": 32
        }
      ]
    },
    {
      "cell_type": "code",
      "source": [
        "l_c = [[10,20],[30,40]]\n",
        "l_d = [[10,20],[20,40]]"
      ],
      "metadata": {
        "id": "kXjvR7hDmIvP"
      },
      "execution_count": null,
      "outputs": []
    },
    {
      "cell_type": "code",
      "source": [
        "l_c = tf.constant(l_c)\n",
        "l_d = tf.constant(l_d)\n",
        "c = tf.stack([l_c,l_d])\n",
        "c"
      ],
      "metadata": {
        "colab": {
          "base_uri": "https://localhost:8080/"
        },
        "id": "V54KFM-tmTK5",
        "outputId": "a4deb96b-9e6f-4c71-9244-f20c98cf6c35"
      },
      "execution_count": null,
      "outputs": [
        {
          "output_type": "execute_result",
          "data": {
            "text/plain": [
              "<tf.Tensor: shape=(2, 2, 2), dtype=int32, numpy=\n",
              "array([[[10, 20],\n",
              "        [30, 40]],\n",
              "\n",
              "       [[10, 20],\n",
              "        [20, 40]]], dtype=int32)>"
            ]
          },
          "metadata": {},
          "execution_count": 34
        }
      ]
    },
    {
      "cell_type": "code",
      "source": [
        "l_c1 = [1,2,3,4]\n",
        "l_c2 = [1,2,3,4]\n",
        "l_c3 = [1,2,3,4]\n",
        "l_c4 = [1,2,3,4]\n",
        "l_c5 = [1,2,3,4]\n",
        "l_c6 = [1,2,3,4]\n",
        "c1 = tf.constant(l_c1)\n",
        "c2 = tf.constant(l_c2)\n",
        "t_A = tf.stack([c1,c2])\n",
        "c3 = tf.constant(l_c3)\n",
        "c4 = tf.constant(l_c4)\n",
        "t_B = tf.stack([c3,c4])\n",
        "c5 = tf.constant(l_c5)\n",
        "c6 = tf.constant(l_c6)\n",
        "t_C = tf.stack([c5,c6])"
      ],
      "metadata": {
        "id": "CPMP5Mx3rGH3"
      },
      "execution_count": null,
      "outputs": []
    },
    {
      "cell_type": "code",
      "source": [
        "t_D = tf.stack([t_A,t_B,t_C])\n",
        "t_D"
      ],
      "metadata": {
        "colab": {
          "base_uri": "https://localhost:8080/"
        },
        "id": "oHbN9GVKruBv",
        "outputId": "bfcd4934-7878-4fb6-e620-5b0c0eaff2f9"
      },
      "execution_count": null,
      "outputs": [
        {
          "output_type": "execute_result",
          "data": {
            "text/plain": [
              "<tf.Tensor: shape=(3, 2, 4), dtype=int32, numpy=\n",
              "array([[[1, 2, 3, 4],\n",
              "        [1, 2, 3, 4]],\n",
              "\n",
              "       [[1, 2, 3, 4],\n",
              "        [1, 2, 3, 4]],\n",
              "\n",
              "       [[1, 2, 3, 4],\n",
              "        [1, 2, 3, 4]]], dtype=int32)>"
            ]
          },
          "metadata": {},
          "execution_count": 40
        }
      ]
    },
    {
      "cell_type": "code",
      "source": [
        "t_D[:,:,3:]"
      ],
      "metadata": {
        "colab": {
          "base_uri": "https://localhost:8080/"
        },
        "id": "exCR1hA_r-XN",
        "outputId": "ddbcfdf4-177c-44e3-aef0-3599626b1cbb"
      },
      "execution_count": null,
      "outputs": [
        {
          "output_type": "execute_result",
          "data": {
            "text/plain": [
              "<tf.Tensor: shape=(3, 2, 1), dtype=int32, numpy=\n",
              "array([[[4],\n",
              "        [4]],\n",
              "\n",
              "       [[4],\n",
              "        [4]],\n",
              "\n",
              "       [[4],\n",
              "        [4]]], dtype=int32)>"
            ]
          },
          "metadata": {},
          "execution_count": 46
        }
      ]
    },
    {
      "cell_type": "code",
      "source": [
        "t7 = tf.constant(range(0,24))\n",
        "t7"
      ],
      "metadata": {
        "colab": {
          "base_uri": "https://localhost:8080/"
        },
        "id": "7y3okHtAv9Vt",
        "outputId": "fa8fba5c-8ae0-4562-e6bb-c0d5da91781c"
      },
      "execution_count": null,
      "outputs": [
        {
          "output_type": "execute_result",
          "data": {
            "text/plain": [
              "<tf.Tensor: shape=(24,), dtype=int32, numpy=\n",
              "array([ 0,  1,  2,  3,  4,  5,  6,  7,  8,  9, 10, 11, 12, 13, 14, 15, 16,\n",
              "       17, 18, 19, 20, 21, 22, 23], dtype=int32)>"
            ]
          },
          "metadata": {},
          "execution_count": 47
        }
      ]
    },
    {
      "cell_type": "code",
      "source": [
        "r_t7 = tf.reshape(t7,[3,8])\n",
        "r_t7"
      ],
      "metadata": {
        "colab": {
          "base_uri": "https://localhost:8080/"
        },
        "id": "kOV4ZGI_wIpj",
        "outputId": "c5dc345e-56ca-4d7f-f4a0-52aab1bdd4e0"
      },
      "execution_count": null,
      "outputs": [
        {
          "output_type": "execute_result",
          "data": {
            "text/plain": [
              "<tf.Tensor: shape=(3, 8), dtype=int32, numpy=\n",
              "array([[ 0,  1,  2,  3,  4,  5,  6,  7],\n",
              "       [ 8,  9, 10, 11, 12, 13, 14, 15],\n",
              "       [16, 17, 18, 19, 20, 21, 22, 23]], dtype=int32)>"
            ]
          },
          "metadata": {},
          "execution_count": 48
        }
      ]
    },
    {
      "cell_type": "code",
      "source": [
        "r2_t7 = tf.reshape(t7,[-1,4])\n",
        "r2_t7"
      ],
      "metadata": {
        "colab": {
          "base_uri": "https://localhost:8080/"
        },
        "id": "P9uJ7zCiwTTj",
        "outputId": "a5197bce-fa82-41a8-facf-64ecd3f12ffc"
      },
      "execution_count": null,
      "outputs": [
        {
          "output_type": "execute_result",
          "data": {
            "text/plain": [
              "<tf.Tensor: shape=(6, 4), dtype=int32, numpy=\n",
              "array([[ 0,  1,  2,  3],\n",
              "       [ 4,  5,  6,  7],\n",
              "       [ 8,  9, 10, 11],\n",
              "       [12, 13, 14, 15],\n",
              "       [16, 17, 18, 19],\n",
              "       [20, 21, 22, 23]], dtype=int32)>"
            ]
          },
          "metadata": {},
          "execution_count": 49
        }
      ]
    },
    {
      "cell_type": "code",
      "source": [
        "r3_t7 = tf.reshape(r2_t7,[-1])\n",
        "r3_t7"
      ],
      "metadata": {
        "colab": {
          "base_uri": "https://localhost:8080/"
        },
        "id": "LQ-ao7StwrME",
        "outputId": "e81bd24b-588b-44b6-f836-72af47d84f77"
      },
      "execution_count": null,
      "outputs": [
        {
          "output_type": "execute_result",
          "data": {
            "text/plain": [
              "<tf.Tensor: shape=(24,), dtype=int32, numpy=\n",
              "array([ 0,  1,  2,  3,  4,  5,  6,  7,  8,  9, 10, 11, 12, 13, 14, 15, 16,\n",
              "       17, 18, 19, 20, 21, 22, 23], dtype=int32)>"
            ]
          },
          "metadata": {},
          "execution_count": 50
        }
      ]
    },
    {
      "cell_type": "code",
      "source": [
        "r4_t7 = tf.reshape(r2_t7,[-1,3,4])\n",
        "r4_t7"
      ],
      "metadata": {
        "colab": {
          "base_uri": "https://localhost:8080/"
        },
        "id": "WQ68eklUw1PS",
        "outputId": "3bc3a87a-c558-4637-b61a-c41945e4bbd8"
      },
      "execution_count": null,
      "outputs": [
        {
          "output_type": "execute_result",
          "data": {
            "text/plain": [
              "<tf.Tensor: shape=(2, 3, 4), dtype=int32, numpy=\n",
              "array([[[ 0,  1,  2,  3],\n",
              "        [ 4,  5,  6,  7],\n",
              "        [ 8,  9, 10, 11]],\n",
              "\n",
              "       [[12, 13, 14, 15],\n",
              "        [16, 17, 18, 19],\n",
              "        [20, 21, 22, 23]]], dtype=int32)>"
            ]
          },
          "metadata": {},
          "execution_count": 51
        }
      ]
    },
    {
      "cell_type": "code",
      "source": [
        "r5_t7 = tf.reshape(r2_t7,[-1,2,4])\n",
        "r5_t7"
      ],
      "metadata": {
        "colab": {
          "base_uri": "https://localhost:8080/"
        },
        "id": "aOXGAwPixC2k",
        "outputId": "252880c3-b209-4ec4-8313-49d2282e15f7"
      },
      "execution_count": null,
      "outputs": [
        {
          "output_type": "execute_result",
          "data": {
            "text/plain": [
              "<tf.Tensor: shape=(3, 2, 4), dtype=int32, numpy=\n",
              "array([[[ 0,  1,  2,  3],\n",
              "        [ 4,  5,  6,  7]],\n",
              "\n",
              "       [[ 8,  9, 10, 11],\n",
              "        [12, 13, 14, 15]],\n",
              "\n",
              "       [[16, 17, 18, 19],\n",
              "        [20, 21, 22, 23]]], dtype=int32)>"
            ]
          },
          "metadata": {},
          "execution_count": 52
        }
      ]
    },
    {
      "cell_type": "code",
      "source": [
        "r6_t7 = tf.reshape(r2_t7,[-1,2,2,2])\n",
        "r6_t7"
      ],
      "metadata": {
        "colab": {
          "base_uri": "https://localhost:8080/"
        },
        "id": "Am-bw-G6xfGs",
        "outputId": "9185fdcb-0ad8-4e34-8682-6cee5382ad9f"
      },
      "execution_count": null,
      "outputs": [
        {
          "output_type": "execute_result",
          "data": {
            "text/plain": [
              "<tf.Tensor: shape=(3, 2, 2, 2), dtype=int32, numpy=\n",
              "array([[[[ 0,  1],\n",
              "         [ 2,  3]],\n",
              "\n",
              "        [[ 4,  5],\n",
              "         [ 6,  7]]],\n",
              "\n",
              "\n",
              "       [[[ 8,  9],\n",
              "         [10, 11]],\n",
              "\n",
              "        [[12, 13],\n",
              "         [14, 15]]],\n",
              "\n",
              "\n",
              "       [[[16, 17],\n",
              "         [18, 19]],\n",
              "\n",
              "        [[20, 21],\n",
              "         [22, 23]]]], dtype=int32)>"
            ]
          },
          "metadata": {},
          "execution_count": 53
        }
      ]
    },
    {
      "cell_type": "markdown",
      "source": [
        "자동미분\n"
      ],
      "metadata": {
        "id": "6y8XqAyhxjq7"
      }
    },
    {
      "cell_type": "code",
      "source": [
        "## y = x^2의 미분값 구하기\n",
        "x = tf.Variable(2.0)\n",
        "\n",
        "with tf.GradientTape() as tape:\n",
        "  y =  x ** 2\n",
        "dy_dx = tape.gradient(y,x)\n",
        "dy_dx.numpy()"
      ],
      "metadata": {
        "colab": {
          "base_uri": "https://localhost:8080/"
        },
        "id": "LvSIjLWfxmKx",
        "outputId": "c1b4b4df-4b39-48af-c5a1-a4d51e5c5141"
      },
      "execution_count": 4,
      "outputs": [
        {
          "output_type": "execute_result",
          "data": {
            "text/plain": [
              "4.0"
            ]
          },
          "metadata": {},
          "execution_count": 4
        }
      ]
    },
    {
      "cell_type": "code",
      "source": [
        "g = tf.random.Generator.from_seed(2020)\n",
        "x = g.normal(shape=(10,))\n",
        "y = 3 * x -2 "
      ],
      "metadata": {
        "id": "gCSC72JF1Feh"
      },
      "execution_count": 5,
      "outputs": []
    },
    {
      "cell_type": "code",
      "source": [
        "x.numpy()"
      ],
      "metadata": {
        "colab": {
          "base_uri": "https://localhost:8080/"
        },
        "id": "KFkyJ5A29pNo",
        "outputId": "33839b74-2b82-4034-c138-ad161131fa0e"
      },
      "execution_count": 7,
      "outputs": [
        {
          "output_type": "execute_result",
          "data": {
            "text/plain": [
              "array([-0.20943771,  1.2746525 ,  1.213214  , -0.17576954,  1.876984  ,\n",
              "        0.16379917,  1.082245  ,  0.6199966 , -0.4440221 ,  1.3048344 ],\n",
              "      dtype=float32)"
            ]
          },
          "metadata": {},
          "execution_count": 7
        }
      ]
    },
    {
      "cell_type": "code",
      "source": [
        "y.numpy()"
      ],
      "metadata": {
        "colab": {
          "base_uri": "https://localhost:8080/"
        },
        "id": "8cMB8c9y9w_g",
        "outputId": "c30f2534-2dc9-43a5-c431-2a0b1430004f"
      },
      "execution_count": 8,
      "outputs": [
        {
          "output_type": "execute_result",
          "data": {
            "text/plain": [
              "array([-2.628313  ,  1.8239574 ,  1.6396422 , -2.5273085 ,  3.630952  ,\n",
              "       -1.5086025 ,  1.2467351 , -0.14001012, -3.3320663 ,  1.9145031 ],\n",
              "      dtype=float32)"
            ]
          },
          "metadata": {},
          "execution_count": 8
        }
      ]
    },
    {
      "cell_type": "code",
      "source": [
        "m2 = tf.constant([[1.,1.]]) ##2차원 구조 만든것같음"
      ],
      "metadata": {
        "id": "mwW2Ew1591SI"
      },
      "execution_count": null,
      "outputs": []
    },
    {
      "cell_type": "code",
      "source": [
        "##loss 함수 정의하기\n",
        "def cal_mse(x,y,a,b):\n",
        "    y_pred = a*x + b ## 그래프\n",
        "    squared_error = (y_pred - y) **2 \n",
        "    mean_squared_error = tf.reduce_mean(squared_error)\n",
        "\n",
        "    return mean_squared_error"
      ],
      "metadata": {
        "id": "D4goFM2n9-G0"
      },
      "execution_count": 10,
      "outputs": []
    },
    {
      "cell_type": "code",
      "source": [
        "a = tf.Variable(0.0)\n",
        "b = tf.Variable(0.0)\n",
        "\n",
        "EPOCHS = 300\n",
        "\n",
        "for epoch in range(1, EPOCHS+1):\n",
        "    with tf.GradientTape() as tape:\n",
        "        mse = cal_mse(x,y,a,b)\n",
        "    if mse < 0.00001: ## 오차한계\n",
        "        break\n",
        "    grade = tape.gradient(mse, {'a':a, 'b':b})\n",
        "    d_a, d_b = grade['a'], grade['b']\n",
        "    a.assign_sub(d_a * 0.05) ## a = a - d_a * 0.05(학습률)\n",
        "    b.assign_sub(d_b * 0.05) ## b = b - d_b * 0.05(학습률)\n",
        "\n",
        "    if epoch % 20 ==0:\n",
        "        print(\"EPOCH %d - MSE : %.4f - a: %.2f -b : %.2f\"%(epoch, mse, a, b))"
      ],
      "metadata": {
        "colab": {
          "base_uri": "https://localhost:8080/"
        },
        "id": "iST9dfR9-LMM",
        "outputId": "be2ea7f6-61cd-4dad-c14d-c0d617bd64d0"
      },
      "execution_count": 11,
      "outputs": [
        {
          "output_type": "stream",
          "name": "stdout",
          "text": [
            "EPOCH 20 - MSE : 1.1415 - a: 1.74 -b : -0.75\n",
            "EPOCH 40 - MSE : 0.2881 - a: 2.37 -b : -1.37\n",
            "EPOCH 60 - MSE : 0.0728 - a: 2.69 -b : -1.68\n",
            "EPOCH 80 - MSE : 0.0184 - a: 2.84 -b : -1.84\n",
            "EPOCH 100 - MSE : 0.0046 - a: 2.92 -b : -1.92\n",
            "EPOCH 120 - MSE : 0.0012 - a: 2.96 -b : -1.96\n",
            "EPOCH 140 - MSE : 0.0003 - a: 2.98 -b : -1.98\n",
            "EPOCH 160 - MSE : 0.0001 - a: 2.99 -b : -1.99\n",
            "EPOCH 180 - MSE : 0.0000 - a: 2.99 -b : -1.99\n"
          ]
        }
      ]
    },
    {
      "cell_type": "code",
      "source": [
        "y_pred = 3 * x -2\n",
        "plt.scatter(x,y)\n",
        "plt.plot(x,y_pred, color = 'r')\n",
        "plt.show()"
      ],
      "metadata": {
        "colab": {
          "base_uri": "https://localhost:8080/",
          "height": 430
        },
        "id": "K9WkASkH-1oc",
        "outputId": "97cccc20-d5e0-4eaa-a10b-a9749e78efc2"
      },
      "execution_count": 12,
      "outputs": [
        {
          "output_type": "display_data",
          "data": {
            "text/plain": [
              "<Figure size 640x480 with 1 Axes>"
            ],
            "image/png": "[encoded data removed]"
          },
          "metadata": {}
        }
      ]
    },
    {
      "cell_type": "code",
      "source": [
        "##데이터셋 생성(노이즈 첨가) \n",
        "g = tf.random.Generator.from_seed(2020)\n",
        "x1 = g.normal(shape=(10,))\n",
        "noise = np.random.normal(-abs(noise),abs(noise),size = (10,))\n",
        "y = 3 * x - 2 + noise"
      ],
      "metadata": {
        "colab": {
          "base_uri": "https://localhost:8080/",
          "height": 230
        },
        "id": "ODltXBFh-5Ht",
        "outputId": "c248016d-d13a-43c2-d48a-dc709e1c659e"
      },
      "execution_count": 14,
      "outputs": [
        {
          "output_type": "error",
          "ename": "NameError",
          "evalue": "ignored",
          "traceback": [
            "\u001b[0;31m---------------------------------------------------------------------------\u001b[0m",
            "\u001b[0;31mNameError\u001b[0m                                 Traceback (most recent call last)",
            "\u001b[0;32m<ipython-input-14-6ad40c164aec>\u001b[0m in \u001b[0;36m<cell line: 4>\u001b[0;34m()\u001b[0m\n\u001b[1;32m      2\u001b[0m \u001b[0mg\u001b[0m \u001b[0;34m=\u001b[0m \u001b[0mtf\u001b[0m\u001b[0;34m.\u001b[0m\u001b[0mrandom\u001b[0m\u001b[0;34m.\u001b[0m\u001b[0mGenerator\u001b[0m\u001b[0;34m.\u001b[0m\u001b[0mfrom_seed\u001b[0m\u001b[0;34m(\u001b[0m\u001b[0;36m2020\u001b[0m\u001b[0;34m)\u001b[0m\u001b[0;34m\u001b[0m\u001b[0;34m\u001b[0m\u001b[0m\n\u001b[1;32m      3\u001b[0m \u001b[0mx1\u001b[0m \u001b[0;34m=\u001b[0m \u001b[0mg\u001b[0m\u001b[0;34m.\u001b[0m\u001b[0mnormal\u001b[0m\u001b[0;34m(\u001b[0m\u001b[0mshape\u001b[0m\u001b[0;34m=\u001b[0m\u001b[0;34m(\u001b[0m\u001b[0;36m10\u001b[0m\u001b[0;34m,\u001b[0m\u001b[0;34m)\u001b[0m\u001b[0;34m)\u001b[0m\u001b[0;34m\u001b[0m\u001b[0;34m\u001b[0m\u001b[0m\n\u001b[0;32m----> 4\u001b[0;31m \u001b[0mnoise\u001b[0m \u001b[0;34m=\u001b[0m \u001b[0mnp\u001b[0m\u001b[0;34m.\u001b[0m\u001b[0mrandom\u001b[0m\u001b[0;34m.\u001b[0m\u001b[0mnormal\u001b[0m\u001b[0;34m(\u001b[0m\u001b[0;34m-\u001b[0m\u001b[0mabs\u001b[0m\u001b[0;34m(\u001b[0m\u001b[0mnoise\u001b[0m\u001b[0;34m)\u001b[0m\u001b[0;34m,\u001b[0m\u001b[0mabs\u001b[0m\u001b[0;34m(\u001b[0m\u001b[0mnoise\u001b[0m\u001b[0;34m)\u001b[0m\u001b[0;34m,\u001b[0m\u001b[0msize\u001b[0m \u001b[0;34m=\u001b[0m \u001b[0;34m(\u001b[0m\u001b[0;36m10\u001b[0m\u001b[0;34m,\u001b[0m\u001b[0;34m)\u001b[0m\u001b[0;34m)\u001b[0m\u001b[0;34m\u001b[0m\u001b[0;34m\u001b[0m\u001b[0m\n\u001b[0m\u001b[1;32m      5\u001b[0m \u001b[0my\u001b[0m \u001b[0;34m=\u001b[0m \u001b[0;36m3\u001b[0m \u001b[0;34m*\u001b[0m \u001b[0mx\u001b[0m \u001b[0;34m-\u001b[0m \u001b[0;36m2\u001b[0m \u001b[0;34m+\u001b[0m \u001b[0mnoise\u001b[0m\u001b[0;34m\u001b[0m\u001b[0;34m\u001b[0m\u001b[0m\n",
            "\u001b[0;31mNameError\u001b[0m: name 'noise' is not defined"
          ]
        }
      ]
    },
    {
      "cell_type": "code",
      "source": [
        "a = tf.Variable(0.0)\n",
        "b = tf.Variable(0.0)\n",
        "\n",
        "HS = 1000\n",
        "\n",
        "for epoch in range(1, EPOCHS+1):\n",
        "    with tf.GradientTape() as tape:\n",
        "        mse = cal_mse(x1,y,a,b)\n",
        "    if mse < 0.000001: ## 오차한계\n",
        "        break\n",
        "    grade = tape.gradient(mse, {'a':a, 'b':b})\n",
        "    d_a, d_b = grade['a'], grade['b']\n",
        "    a.assign_sub(d_a * 0.05) ## a = a - d_a * 0.05(학습률)\n",
        "    b.assign_sub(d_b * 0.05) ## b = b - d_b * 0.05(학습률)\n",
        "\n",
        "    if epoch % 20 ==0:\n",
        "        print(\"EPOCH %d - MSE : %.4f - a: %.2f -b : %.2f\"%(epoch, mse, a, b))"
      ],
      "metadata": {
        "colab": {
          "base_uri": "https://localhost:8080/"
        },
        "id": "udbJQBef_EsE",
        "outputId": "56096cc0-7d34-4e36-a130-af73e70214fa"
      },
      "execution_count": 15,
      "outputs": [
        {
          "output_type": "stream",
          "name": "stdout",
          "text": [
            "EPOCH 20 - MSE : 1.1415 - a: 1.74 -b : -0.75\n",
            "EPOCH 40 - MSE : 0.2881 - a: 2.37 -b : -1.37\n",
            "EPOCH 60 - MSE : 0.0728 - a: 2.69 -b : -1.68\n",
            "EPOCH 80 - MSE : 0.0184 - a: 2.84 -b : -1.84\n",
            "EPOCH 100 - MSE : 0.0046 - a: 2.92 -b : -1.92\n",
            "EPOCH 120 - MSE : 0.0012 - a: 2.96 -b : -1.96\n",
            "EPOCH 140 - MSE : 0.0003 - a: 2.98 -b : -1.98\n",
            "EPOCH 160 - MSE : 0.0001 - a: 2.99 -b : -1.99\n",
            "EPOCH 180 - MSE : 0.0000 - a: 2.99 -b : -1.99\n",
            "EPOCH 200 - MSE : 0.0000 - a: 3.00 -b : -2.00\n",
            "EPOCH 220 - MSE : 0.0000 - a: 3.00 -b : -2.00\n"
          ]
        }
      ]
    },
    {
      "cell_type": "code",
      "source": [
        "y_pred = 2.95* x1 -3.03\n",
        "plt.scatter(x1,y)\n",
        "plt.plot(x,y_pred, color = 'r')\n",
        "plt.show()"
      ],
      "metadata": {
        "colab": {
          "base_uri": "https://localhost:8080/",
          "height": 434
        },
        "id": "o5ZX1NVM_IbS",
        "outputId": "9310b57e-e652-4ee8-8d32-50ccb0a11aa0"
      },
      "execution_count": 16,
      "outputs": [
        {
          "output_type": "display_data",
          "data": {
            "text/plain": [
              "<Figure size 640x480 with 1 Axes>"
            ],
            "image/png": "[encoded data removed]"
          },
          "metadata": {}
        }
      ]
    }
  ]
}